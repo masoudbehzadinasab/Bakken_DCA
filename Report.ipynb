{
 "cells": [
  {
   "cell_type": "markdown",
   "metadata": {
    "slideshow": {
     "slide_type": "skip"
    }
   },
   "source": [
    "# ----------- Prepared by *Masoud Behzadinasab* ----------- "
   ]
  },
  {
   "cell_type": "markdown",
   "metadata": {},
   "source": [
    "# Problem Objectives"
   ]
  },
  {
   "cell_type": "markdown",
   "metadata": {},
   "source": [
    "Given a set of public data including well information and production histories for a group of companies, drilling wells in the Bakken, North Dakota, we are asked to analyze the data based on the assumption that history will dictate future. In other words, future operating results can be forecasted by the historical operating results. The following tasks are the primary objectives here:  \n",
    "- Determine and summarize historical aggregate oil production by company over time  \n",
    "- Determine and summarize oil EUR per well by company  \n",
    "- Based on their history, which company or companies are likely to drill the most productive wells going forward?"
   ]
  },
  {
   "cell_type": "markdown",
   "metadata": {},
   "source": [
    "# Overview"
   ]
  },
  {
   "cell_type": "markdown",
   "metadata": {},
   "source": [
    "Going through the given data, there are overall 636 wells for 10 operators. For each individual well monthly production histories are provided. Since this is a public data, there are some missing datapoints, plus the probability of existence of outliers. It is well known that it is imperative in decline curve analysis to detect and exclude outliers. Large prediction errors is very well possible otherwise. "
   ]
  },
  {
   "cell_type": "markdown",
   "metadata": {},
   "source": [
    "As we need to calculate EUR per well, first thing to consider is to choose an appropriate model for history matching of the given data, which comes from the Bakken formation, an unconventional field. It has been shown that conventional models such as Arp's equations often lead to overestimation of EUR in unconventioanl resources (Paryani et al., 2018). It has been reported (Clark et al., 2011) that Logistic Growth Analysis (LGA) can more accurately capture production history of unconventional resources. Therefore, I would use LGA in this analysis."
   ]
  },
  {
   "cell_type": "markdown",
   "metadata": {},
   "source": [
    "Since each well is going to be individually fitted with a model, it is important to consider whether all of them are eligible to calibrate a model. Having just a few data points can easily overfit a model (with 2 or 3 parameters) and be misleading. For the sake of this analysis, I would only use wells with 6 or more months of production history in model calibration (even 6 data points still looks small, but we need to compromise between losing information and accuracy).  \n",
    "Regarding those with less than 6 months of production, if it has been a notable time since their last operation activity, I would believe that its operator found it as a bad well and just left it. Their cumulative productions are used as their EUR and included in this analysis. Other wells with a short production history that are recently drilled and started producing in 2018 are not included here."
   ]
  },
  {
   "cell_type": "markdown",
   "metadata": {},
   "source": [
    "## Logistic Growth Analysis (LGA) "
   ]
  },
  {
   "cell_type": "markdown",
   "metadata": {},
   "source": [
    "Logistic Growth Model is the following hyperbolic form equation:  \n",
    "$Q(t) = \\dfrac{K t^n}{a + t^n}$,  \n",
    "where $Q(t)$ is the cumulative production at time $t$, and $K$ is the reservoir/well capacity. $a$ and $n$ are fitting parameters. As the capacity is typically unknown (and history matching is used to estimate it), $K$ is also used as a fitting constant. "
   ]
  },
  {
   "cell_type": "markdown",
   "metadata": {},
   "source": [
    "## Outlier detection "
   ]
  },
  {
   "cell_type": "markdown",
   "metadata": {},
   "source": [
    "A common way to detect outliers is to combine statistical tests with regression based methods (Chaudhary and Lee, 2016). The entire rate dataset initially calibrates the chosen model, then the noise in the dataset is fitted to a Gaussian distribution. Outliers are points which deviate more than x (usually x = 1.5) standard deviations from the model fit over the entire dataset.  \n",
    "After outliers are excluded, the model is fit to the remaining data and EUR is estimated. As we are not asked to calculate EUR at a specific time (e.g. 20 years), the lifetime EUR is inclued as the basis of my analysis."
   ]
  },
  {
   "cell_type": "markdown",
   "metadata": {},
   "source": [
    "# Results "
   ]
  },
  {
   "cell_type": "markdown",
   "metadata": {},
   "source": [
    "The results are presented in this section."
   ]
  },
  {
   "cell_type": "markdown",
   "metadata": {},
   "source": [
    "## Historical aggregate oil productions"
   ]
  },
  {
   "cell_type": "markdown",
   "metadata": {},
   "source": [
    "![](Results/Aggregate_oil_productions.png)"
   ]
  },
  {
   "cell_type": "markdown",
   "metadata": {},
   "source": [
    "The cumulative oil productions to date range from 5.7 to 16.1 million barrels (note that the outliers are excluded that could have reduced the actual productions). "
   ]
  },
  {
   "cell_type": "markdown",
   "metadata": {},
   "source": [
    "## Yearly oil productions by company "
   ]
  },
  {
   "cell_type": "markdown",
   "metadata": {},
   "source": [
    "![](Results/Yearly_oil_productions.png)"
   ]
  },
  {
   "cell_type": "markdown",
   "metadata": {},
   "source": [
    "This chart indicates that the companies *WPX ENERGY WILLISTON LLC*, *MARATHON OIL COMPANY*, *ENERPLUS RESOURCES USA CORPORATION*, and *KRAKEN OPERATING LLC* have been increasing their productions in the recent years. Several factors can contribute to the recent increase in productions:\n",
    "- increase in well completions (as shown in the following chart),\n",
    "- sudden increase in the older wells (by refracing or other means),\n",
    "- better completion strategies that have led to identifying highly producing reserves."
   ]
  },
  {
   "cell_type": "markdown",
   "metadata": {},
   "source": [
    "## Well completions by year"
   ]
  },
  {
   "cell_type": "markdown",
   "metadata": {},
   "source": [
    "![](Results/Yearly_well_completions.png)"
   ]
  },
  {
   "cell_type": "markdown",
   "metadata": {},
   "source": [
    "## Analysis of each company's activities"
   ]
  },
  {
   "cell_type": "markdown",
   "metadata": {},
   "source": [
    "A summary of the previous three plots are given here for each company:\n",
    "- *ABRAXAS PETROLEUM CORP*: Not very active before 2013, but since 2013 have been drilling an average of 8 wells each year and has constantly improved their yearly productions until 2017. They have produced an overall amount of 6.76 million barrels. \n",
    "- *CRESCENT POINT ENERGY US CORP*: Drilled 19 wells in 2012 and an average of 7 wells for the past 6 years. Their yearly productions have been fluctuating for all these years. They have produced an aggregate of 6.48 million barrels. \n",
    "- *ENERPLUS RESOURCES USA CORPORATION*: Gradually increased their completions until 2014 with 12 yearly drilled wells, then reduced their completions for 2 years. They were one the two most active drillers in 2017 with 22 drilled wells. They owned the most annual oil productions 2014-18 and placed the second in 2018. They have produced the most aggregate oils with 16.1 million barrels.\n",
    "- *KRAKEN OPERATING LLC*: One of the top two active drillers in 2010-2014, then decreased their yearly completions until 2017 when they drilled 22 wells in a year. Their annual productions were top of the list in until 2014, then placed moderately among all. They have produced 12.2 million barrels of oil. \n",
    "- *LIBERTY RESOURCES MANAGEMENT COMPANY LLC*: Have been active since 2013 with an overall increase in their yearly well completions (average 11 annual drilled wells in 2013-2018). They have consistently increasing their productions until 2017 and are performing moderately among all. They have produced an overall amount of 6.9 million barrels. \n",
    "- *MARATHON OIL COMPANY*: Drilled 9 wells in 2011 and an average of 3.6 wells in 2012-2016. Recently increased their activities and drilled 17 wells in 2017. They have consistently increased their yearly productions and outperform all in 2018. A cumulative amount of 12.3 million barrels have been produced by them.\n",
    "- *MUREX PETROLEUM CORPORATION*: The most active operator for the first two year, then decreased their completions in 2012 to 9 per year. Since 2013, they have only drilled one well every other year. Their yearly productions have decreased consistently since 2012. In total they have produced the least amount of oil (5.74 million barrels).\n",
    "- *PETRO-HUNT DAKOTA LLC*: The most active driller for three years, 2013-16, then stopped drilling any more, resulting in a decline in their annual productions since 2015. They have produced a total of 7.02 million barrels.\n",
    "- *SLAWSON EXPLORATION COMPANY INC*: They were mostly drilling for 5 years (2011-2016) with an average of 9 well completions per year. They stopped drilling any wells for two years and recently drilled a new one. Their annual productions increased until 2016 and then declined. They have produced an aggregate of 6.52 million barrels.\n",
    "- *WPX ENERGY WILLISTON LLC*: Their yearly drilling activities have been going up and down since the beginning. They drilled 20 wells in 2017 (an average of 6.6 before 2017). Their yearly productions have been consistetly going up. In total, they have produced 15.1 million barrels of oil."
   ]
  },
  {
   "cell_type": "markdown",
   "metadata": {},
   "source": [
    "## EUR per well by company"
   ]
  },
  {
   "cell_type": "markdown",
   "metadata": {},
   "source": [
    "![](Results/EUR_per_well.png)"
   ]
  },
  {
   "cell_type": "markdown",
   "metadata": {},
   "source": [
    "On average EUR per well, *MARATHON OIL COMPANY*, *ENERPLUS RESOURCES USA CORPORATION*, and *WPX ENERGY WILLISTON LLC* are outperforming the other operators. *PETRO-HUNT DAKOTA LLC* and *CRESCENT POINT ENERGY US CORP* have the smallest EUR values amongst all."
   ]
  },
  {
   "cell_type": "markdown",
   "metadata": {},
   "source": [
    "## EUR trends over time"
   ]
  },
  {
   "cell_type": "markdown",
   "metadata": {},
   "source": [
    "To get insights into a company's drilling strategies over time, a line is fitted into its EURs vs. completion dates. If the line has a positive slope, it indicates that the operator is improving its productions per well. To reduce the effects of outliers in fitting the line, a robust regression analysis with *huber* loss function is used."
   ]
  },
  {
   "cell_type": "markdown",
   "metadata": {},
   "source": [
    "![](Results/EUR_over_time.png)"
   ]
  },
  {
   "cell_type": "markdown",
   "metadata": {},
   "source": [
    "# Conclusion "
   ]
  },
  {
   "cell_type": "markdown",
   "metadata": {},
   "source": [
    "Based on this analysis, it looks like **WPX ENERGY WILLISTON LLC** has been consistently among the top producers per well since 2010 and has a slightly positive trend in the above plot and is likely to drill the most productive wells going forward. **MARATHON OIL COMPANY** is the runner-up here with a high average EURs but a negative trend. While **ENERPLUS RESOURCES USA CORPORATION** was the top operator before 2014, it is currently placed in the third rank as its average well EUR seems to be decreasing. These three companies outperform the rest of the operators."
   ]
  },
  {
   "cell_type": "markdown",
   "metadata": {},
   "source": [
    "We should be mindful of interpreting the results. While it is nice for a drilling company to have a positive trend in its EUR per well over time, having a negative slope does not strongly mean that the company is going in the wrong direction. Based on the data, drastic changes in productions of some wells are evident. That might be due to refracking wells after a few years, leading to a sudden jump in production. That could increase the earlier EURs and decrease the slope of the curves."
   ]
  },
  {
   "cell_type": "markdown",
   "metadata": {},
   "source": [
    "# Limitations and future work "
   ]
  },
  {
   "cell_type": "markdown",
   "metadata": {},
   "source": [
    "While this analysis can be insightful, we should be mindful that the model may have not predicted wells with few data points (less than 1-2 years of history) accurately. LGA is more conservative compared to other models such as Arps and Duong models. I would have tested other models to see if I get consistent results, yet there is limited time given. A segmented model is also more suitable to use for wells with drastic changes in production.  \n",
    "Also, data from the recently drilled wells (most of the completions in 2018) were ignored in this analysis, which could have been influential, i.e., a change in the EUR trend. Ideally, we would like to build a robust model (like a bayesian one) that can make a good prediction even with just a few data points."
   ]
  },
  {
   "cell_type": "markdown",
   "metadata": {},
   "source": [
    "A bayesian approach (like mcmc) might eventually give the best results. However, that requires a lot more time to build an appropriate model (the run time is largely higher too). If I were to do bayesian analysis, I would establish a model based on good data first (here, wells with long production history and few outliers). Then I would use that model as my prior information on the other data to detect outliers first and then make predictions. Especially for those wells with very few data points a bayesian model can work best."
   ]
  },
  {
   "cell_type": "markdown",
   "metadata": {},
   "source": [
    "## References "
   ]
  },
  {
   "cell_type": "markdown",
   "metadata": {},
   "source": [
    "- Chaudhary, N. L., & Lee, W. J. (2016). Detecting and Removing Outliers in Production Data to Enhance Production Forecasting. In SPE/IAEE Hydrocarbon Economics and Evaluation Symposium. Society of Petroleum Engineers.\n",
    "- Clark, A. J., Lake, L. W., & Patzek, T. W. (2011). Production forecasting with logistic growth models. In SPE annual technical conference and exhibition. Society of Petroleum Engineers.\n",
    "- Paryani, M., Ahmadi, M., Awoleke, O., Hanks, C. (2018). Decline Curve Analysis: A Comparative Study of Proposed Models Using Improved Residual Functions. Journal of Petroleum & Environmental Biotechnology. 9: 362. DOI: 10.4172/2157-7463.1000362"
   ]
  }
 ],
 "metadata": {
  "kernelspec": {
   "display_name": "Python 2",
   "language": "python",
   "name": "python2"
  },
  "language_info": {
   "codemirror_mode": {
    "name": "ipython",
    "version": 2
   },
   "file_extension": ".py",
   "mimetype": "text/x-python",
   "name": "python",
   "nbconvert_exporter": "python",
   "pygments_lexer": "ipython2",
   "version": "2.7.13"
  },
  "toc": {
   "nav_menu": {},
   "number_sections": false,
   "sideBar": true,
   "skip_h1_title": false,
   "title_cell": "Table of Contents",
   "title_sidebar": "Contents",
   "toc_cell": false,
   "toc_position": {},
   "toc_section_display": true,
   "toc_window_display": false
  }
 },
 "nbformat": 4,
 "nbformat_minor": 2
}
